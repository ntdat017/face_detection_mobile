{
 "cells": [
  {
   "cell_type": "code",
   "execution_count": 3,
   "metadata": {},
   "outputs": [],
   "source": [
    "import coremltools\n",
    "import numpy as np\n",
    "from PIL import Image\n",
    "\n",
    "model = coremltools.models.MLModel('coreml_model.mlmodel')"
   ]
  },
  {
   "cell_type": "code",
   "execution_count": 7,
   "metadata": {},
   "outputs": [
    {
     "name": "stdout",
     "output_type": "stream",
     "text": [
      "{'my_output': array([[[[[-0.01727295]],\n",
      "\n",
      "         [[ 0.02018738]],\n",
      "\n",
      "         [[-0.12902832]],\n",
      "\n",
      "         [[ 0.02574158]],\n",
      "\n",
      "         [[-0.00947571]],\n",
      "\n",
      "         [[ 0.03390503]],\n",
      "\n",
      "         [[-0.02612305]],\n",
      "\n",
      "         [[-0.03173828]],\n",
      "\n",
      "         [[ 0.04782104]],\n",
      "\n",
      "         [[-0.00894165]]]]], dtype=float32)}\n"
     ]
    }
   ],
   "source": [
    "import numpy as np \n",
    "\n",
    "image = np.random.rand(32, 32,3).astype(np.float32)\n",
    "image /= 255.\n",
    "\n",
    "image = image.transpose(2, 0, 1)\n",
    "\n",
    "pred = model.predict({'my_input': image})\n",
    "print(pred)"
   ]
  },
  {
   "cell_type": "code",
   "execution_count": null,
   "metadata": {},
   "outputs": [],
   "source": []
  }
 ],
 "metadata": {
  "kernelspec": {
   "display_name": "face_detection_mobile",
   "language": "python",
   "name": "face_detection_mobile"
  },
  "language_info": {
   "codemirror_mode": {
    "name": "ipython",
    "version": 3
   },
   "file_extension": ".py",
   "mimetype": "text/x-python",
   "name": "python",
   "nbconvert_exporter": "python",
   "pygments_lexer": "ipython3",
   "version": "3.6.13"
  }
 },
 "nbformat": 4,
 "nbformat_minor": 4
}
